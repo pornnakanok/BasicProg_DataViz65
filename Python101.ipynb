{
  "nbformat": 4,
  "nbformat_minor": 0,
  "metadata": {
    "colab": {
      "name": "Python101.ipynb",
      "provenance": [],
      "collapsed_sections": [],
      "authorship_tag": "ABX9TyMHxNzSFoWyBsxypBil7Jeo",
      "include_colab_link": true
    },
    "kernelspec": {
      "name": "python3",
      "display_name": "Python 3"
    },
    "language_info": {
      "name": "python"
    }
  },
  "cells": [
    {
      "cell_type": "markdown",
      "metadata": {
        "id": "view-in-github",
        "colab_type": "text"
      },
      "source": [
        "<a href=\"https://colab.research.google.com/github/pornnakanok/BasicProg_DataViz65/blob/main/Python101.ipynb\" target=\"_parent\"><img src=\"https://colab.research.google.com/assets/colab-badge.svg\" alt=\"Open In Colab\"/></a>"
      ]
    },
    {
      "cell_type": "code",
      "execution_count": null,
      "metadata": {
        "id": "-34TQFDgKfXD"
      },
      "outputs": [],
      "source": [
        ""
      ]
    },
    {
      "cell_type": "markdown",
      "source": [
        "#การจัดการข้อความในการแสดงผล (Print)"
      ],
      "metadata": {
        "id": "BrVq2zlMK5ZV"
      }
    },
    {
      "cell_type": "markdown",
      "source": [
        "##ข้อความ (String)\n",
        "### test heading 3"
      ],
      "metadata": {
        "id": "BnWPHny4LBDd"
      }
    },
    {
      "cell_type": "code",
      "source": [
        "print('test')"
      ],
      "metadata": {
        "colab": {
          "base_uri": "https://localhost:8080/"
        },
        "id": "HV_70hvqPIoa",
        "outputId": "edb6920c-d0db-49b9-8f4f-3a2934655084"
      },
      "execution_count": 1,
      "outputs": [
        {
          "output_type": "stream",
          "name": "stdout",
          "text": [
            "test\n"
          ]
        }
      ]
    },
    {
      "cell_type": "code",
      "source": [
        "'สถิติ' # ' quote"
      ],
      "metadata": {
        "colab": {
          "base_uri": "https://localhost:8080/",
          "height": 36
        },
        "id": "EoEcOi5PPz0i",
        "outputId": "a1b8068b-f80a-4253-afc4-472d823c6cba"
      },
      "execution_count": 2,
      "outputs": [
        {
          "output_type": "execute_result",
          "data": {
            "text/plain": [
              "'สถิติ'"
            ],
            "application/vnd.google.colaboratory.intrinsic+json": {
              "type": "string"
            }
          },
          "metadata": {},
          "execution_count": 2
        }
      ]
    },
    {
      "cell_type": "code",
      "source": [
        "\"สถิติ\" # \" double quote"
      ],
      "metadata": {
        "colab": {
          "base_uri": "https://localhost:8080/",
          "height": 36
        },
        "id": "t-aHfW79P8AL",
        "outputId": "5b843729-2015-42a7-9f05-4428962b04a2"
      },
      "execution_count": 3,
      "outputs": [
        {
          "output_type": "execute_result",
          "data": {
            "text/plain": [
              "'สถิติ'"
            ],
            "application/vnd.google.colaboratory.intrinsic+json": {
              "type": "string"
            }
          },
          "metadata": {},
          "execution_count": 3
        }
      ]
    },
    {
      "cell_type": "markdown",
      "source": [
        "ผลการรันแสดงออกมาได้ 2 รูปแบบ\n",
        "1. ถ้าไม่มีตัวแปรมารับ ก็จะแสดงผลออกที่หน้าจอ\n",
        "2. ถ้ามีตัวแปรมารับ ผลการรันก็จะไปอยู่ในตัวแปร"
      ],
      "metadata": {
        "id": "efuxsrgpQY6l"
      }
    },
    {
      "cell_type": "code",
      "source": [
        "1 + 3 # ไม่มีตัวแปรมารับ"
      ],
      "metadata": {
        "colab": {
          "base_uri": "https://localhost:8080/"
        },
        "id": "744EiseFQUmx",
        "outputId": "67409fc7-a818-4d41-e642-c04a7a75a9ce"
      },
      "execution_count": 4,
      "outputs": [
        {
          "output_type": "execute_result",
          "data": {
            "text/plain": [
              "4"
            ]
          },
          "metadata": {},
          "execution_count": 4
        }
      ]
    },
    {
      "cell_type": "code",
      "source": [
        "a = 1 + 3 #มีตัวแปร a มารับผลการบวก"
      ],
      "metadata": {
        "id": "oNqUVU1bQvm5"
      },
      "execution_count": 5,
      "outputs": []
    },
    {
      "cell_type": "code",
      "source": [
        "print(a)"
      ],
      "metadata": {
        "colab": {
          "base_uri": "https://localhost:8080/"
        },
        "id": "jcJt18WIQ2vH",
        "outputId": "9830b7e6-ff1b-4b76-9da7-75ca9af1c28c"
      },
      "execution_count": 6,
      "outputs": [
        {
          "output_type": "stream",
          "name": "stdout",
          "text": [
            "4\n"
          ]
        }
      ]
    },
    {
      "cell_type": "code",
      "source": [
        "'1'+'3' # string + string คือการต่อ string"
      ],
      "metadata": {
        "colab": {
          "base_uri": "https://localhost:8080/",
          "height": 36
        },
        "id": "vXf5AHz2Rd3t",
        "outputId": "d63e4b55-0e11-431b-9512-2a4e78ea1919"
      },
      "execution_count": 7,
      "outputs": [
        {
          "output_type": "execute_result",
          "data": {
            "text/plain": [
              "'13'"
            ],
            "application/vnd.google.colaboratory.intrinsic+json": {
              "type": "string"
            }
          },
          "metadata": {},
          "execution_count": 7
        }
      ]
    },
    {
      "cell_type": "code",
      "source": [
        "1 - 3"
      ],
      "metadata": {
        "colab": {
          "base_uri": "https://localhost:8080/"
        },
        "id": "f0WElloqRnKz",
        "outputId": "92719c7a-3a8d-40b1-8b5e-f64da3496ac4"
      },
      "execution_count": 8,
      "outputs": [
        {
          "output_type": "execute_result",
          "data": {
            "text/plain": [
              "-2"
            ]
          },
          "metadata": {},
          "execution_count": 8
        }
      ]
    },
    {
      "cell_type": "code",
      "source": [
        "'1' - '3' # - string ทำไม่ได้"
      ],
      "metadata": {
        "colab": {
          "base_uri": "https://localhost:8080/",
          "height": 165
        },
        "id": "8EpES-v7RrMQ",
        "outputId": "28bac274-f939-44ea-996e-2541ca937397"
      },
      "execution_count": 9,
      "outputs": [
        {
          "output_type": "error",
          "ename": "TypeError",
          "evalue": "ignored",
          "traceback": [
            "\u001b[0;31m---------------------------------------------------------------------------\u001b[0m",
            "\u001b[0;31mTypeError\u001b[0m                                 Traceback (most recent call last)",
            "\u001b[0;32m<ipython-input-9-509c2f592485>\u001b[0m in \u001b[0;36m<module>\u001b[0;34m()\u001b[0m\n\u001b[0;32m----> 1\u001b[0;31m \u001b[0;34m'1'\u001b[0m \u001b[0;34m-\u001b[0m \u001b[0;34m'3'\u001b[0m \u001b[0;31m# - string ทำไม่ได้\u001b[0m\u001b[0;34m\u001b[0m\u001b[0;34m\u001b[0m\u001b[0m\n\u001b[0m",
            "\u001b[0;31mTypeError\u001b[0m: unsupported operand type(s) for -: 'str' and 'str'"
          ]
        }
      ]
    },
    {
      "cell_type": "markdown",
      "source": [
        "##Print (ข้อความ)"
      ],
      "metadata": {
        "id": "wJRCHKNJSCqa"
      }
    },
    {
      "cell_type": "code",
      "source": [
        "print('ข้อความที่อยากให้ print')"
      ],
      "metadata": {
        "colab": {
          "base_uri": "https://localhost:8080/"
        },
        "id": "tPqsSnzLSJZM",
        "outputId": "fdf9ab2f-80b8-4d6c-be7e-40e22c2cba91"
      },
      "execution_count": 11,
      "outputs": [
        {
          "output_type": "stream",
          "name": "stdout",
          "text": [
            "ข้อความที่อยากให้ print\n"
          ]
        }
      ]
    },
    {
      "cell_type": "markdown",
      "source": [
        "##ตัวแปร (Variables)"
      ],
      "metadata": {
        "id": "xX_QYqDWSJv4"
      }
    },
    {
      "cell_type": "code",
      "source": [
        "vartest = 2.7"
      ],
      "metadata": {
        "id": "aevL4QIFSN5x"
      },
      "execution_count": 10,
      "outputs": []
    },
    {
      "cell_type": "code",
      "source": [
        "vartest"
      ],
      "metadata": {
        "colab": {
          "base_uri": "https://localhost:8080/"
        },
        "id": "aQR6DaWfSbaN",
        "outputId": "98f5e868-ee45-43ac-f027-ba15fe0e0307"
      },
      "execution_count": 12,
      "outputs": [
        {
          "output_type": "execute_result",
          "data": {
            "text/plain": [
              "2.7"
            ]
          },
          "metadata": {},
          "execution_count": 12
        }
      ]
    },
    {
      "cell_type": "code",
      "source": [
        "vartest1 = 1+3"
      ],
      "metadata": {
        "id": "whrk89EXSdqE"
      },
      "execution_count": 13,
      "outputs": []
    },
    {
      "cell_type": "code",
      "source": [
        "vartest1"
      ],
      "metadata": {
        "colab": {
          "base_uri": "https://localhost:8080/"
        },
        "id": "OropScwwSglP",
        "outputId": "224e3759-ec2b-4ecb-9fa8-1cfe09899cb1"
      },
      "execution_count": 14,
      "outputs": [
        {
          "output_type": "execute_result",
          "data": {
            "text/plain": [
              "4"
            ]
          },
          "metadata": {},
          "execution_count": 14
        }
      ]
    },
    {
      "cell_type": "code",
      "source": [
        "print(vartest1)"
      ],
      "metadata": {
        "colab": {
          "base_uri": "https://localhost:8080/"
        },
        "id": "j9KwOHIySpHH",
        "outputId": "f18ba788-47cc-4a91-d109-683304cab825"
      },
      "execution_count": 15,
      "outputs": [
        {
          "output_type": "stream",
          "name": "stdout",
          "text": [
            "4\n"
          ]
        }
      ]
    },
    {
      "cell_type": "code",
      "source": [
        "vartest2 = '1'+'3'"
      ],
      "metadata": {
        "id": "NnkFFZOIStpQ"
      },
      "execution_count": 16,
      "outputs": []
    },
    {
      "cell_type": "code",
      "source": [
        "vartest2"
      ],
      "metadata": {
        "colab": {
          "base_uri": "https://localhost:8080/",
          "height": 36
        },
        "id": "FPCV1aC1SxMe",
        "outputId": "736f3f11-4936-4bf1-92d2-f1b9d35acced"
      },
      "execution_count": 17,
      "outputs": [
        {
          "output_type": "execute_result",
          "data": {
            "text/plain": [
              "'13'"
            ],
            "application/vnd.google.colaboratory.intrinsic+json": {
              "type": "string"
            }
          },
          "metadata": {},
          "execution_count": 17
        }
      ]
    },
    {
      "cell_type": "code",
      "source": [
        "print(vartest2)"
      ],
      "metadata": {
        "colab": {
          "base_uri": "https://localhost:8080/"
        },
        "id": "SItnwJ4wS0ag",
        "outputId": "6a2e2653-e818-4e0c-a23a-571b3bb414cf"
      },
      "execution_count": 18,
      "outputs": [
        {
          "output_type": "stream",
          "name": "stdout",
          "text": [
            "13\n"
          ]
        }
      ]
    },
    {
      "cell_type": "code",
      "source": [
        "vartestfloat = 1.0 + 5"
      ],
      "metadata": {
        "id": "pC3gbityTMRe"
      },
      "execution_count": 19,
      "outputs": []
    },
    {
      "cell_type": "code",
      "source": [
        "vartestfloat"
      ],
      "metadata": {
        "colab": {
          "base_uri": "https://localhost:8080/"
        },
        "id": "iG-dEt0ETTLG",
        "outputId": "05b3dfaa-52e6-42a3-824c-337613c52c7f"
      },
      "execution_count": 20,
      "outputs": [
        {
          "output_type": "execute_result",
          "data": {
            "text/plain": [
              "6.0"
            ]
          },
          "metadata": {},
          "execution_count": 20
        }
      ]
    },
    {
      "cell_type": "code",
      "source": [
        "print(vartestfloat)"
      ],
      "metadata": {
        "colab": {
          "base_uri": "https://localhost:8080/"
        },
        "id": "K4K68DW5Ta0a",
        "outputId": "532f6597-1329-40ab-856e-0f8eadaa9bad"
      },
      "execution_count": 21,
      "outputs": [
        {
          "output_type": "stream",
          "name": "stdout",
          "text": [
            "6.0\n"
          ]
        }
      ]
    },
    {
      "cell_type": "markdown",
      "source": [
        "#ข้อกำหนดในการตั้งชื่อตัวแปร\n",
        "1. พยายามตั้งให้สื่อความหมาย\n",
        "2. ต้องเป็นภาษาอังกฤษ\n",
        "3. ใช้ตัวเลขผสมกับตัวหนังสือได้ แต่ห้ามขึ้นต้นด้วยตัวเลข\n",
        "4. ห้ามมีเว้นวรรคในชื่อตัวแปร\n",
        "5. ตัวใหญ่ ตัวเล็ก มีค่าไม่เท่ากัน"
      ],
      "metadata": {
        "id": "jMCJaWvFTChH"
      }
    },
    {
      "cell_type": "code",
      "source": [
        "1a = 7 #ใช้ตัวเลขผสมตัวหนังสือได้ แต่ห้ามขึ้นต้นด้วยตัวเลข"
      ],
      "metadata": {
        "colab": {
          "base_uri": "https://localhost:8080/",
          "height": 130
        },
        "id": "2OHs1cAEVphj",
        "outputId": "9adcde4a-fc9b-48ac-f325-3e24c0670c57"
      },
      "execution_count": 22,
      "outputs": [
        {
          "output_type": "error",
          "ename": "SyntaxError",
          "evalue": "ignored",
          "traceback": [
            "\u001b[0;36m  File \u001b[0;32m\"<ipython-input-22-ee89eb15d74e>\"\u001b[0;36m, line \u001b[0;32m1\u001b[0m\n\u001b[0;31m    1a = 7 #ใช้ตัวเลขผสมตัวหนังสือได้ แต่ห้ามขึ้นต้นด้วยตัวเลข\u001b[0m\n\u001b[0m     ^\u001b[0m\n\u001b[0;31mSyntaxError\u001b[0m\u001b[0;31m:\u001b[0m invalid syntax\n"
          ]
        }
      ]
    },
    {
      "cell_type": "code",
      "source": [
        "variable a = 1 #ห้ามมีเว้นวรรคในชื่อตัวแปร"
      ],
      "metadata": {
        "colab": {
          "base_uri": "https://localhost:8080/",
          "height": 130
        },
        "id": "oslk0y4zVx2W",
        "outputId": "275edf82-09c8-454f-8c36-5b47729b9748"
      },
      "execution_count": 23,
      "outputs": [
        {
          "output_type": "error",
          "ename": "SyntaxError",
          "evalue": "ignored",
          "traceback": [
            "\u001b[0;36m  File \u001b[0;32m\"<ipython-input-23-ee43b1436b90>\"\u001b[0;36m, line \u001b[0;32m1\u001b[0m\n\u001b[0;31m    variable a = 1 #ห้ามมีเว้นวรรคในชื่อตัวแปร\u001b[0m\n\u001b[0m             ^\u001b[0m\n\u001b[0;31mSyntaxError\u001b[0m\u001b[0;31m:\u001b[0m invalid syntax\n"
          ]
        }
      ]
    },
    {
      "cell_type": "code",
      "source": [
        "bat = 7"
      ],
      "metadata": {
        "id": "RHFU-CSyWC_G"
      },
      "execution_count": 24,
      "outputs": []
    },
    {
      "cell_type": "code",
      "source": [
        "print(Bat) #ตัวใหญ่ ตัวเล็ก มีค่าไม่เท่ากัน"
      ],
      "metadata": {
        "colab": {
          "base_uri": "https://localhost:8080/",
          "height": 165
        },
        "id": "lp2KHWFyWJBM",
        "outputId": "556d8b0d-b63e-48c3-8272-f505f17c116e"
      },
      "execution_count": 25,
      "outputs": [
        {
          "output_type": "error",
          "ename": "NameError",
          "evalue": "ignored",
          "traceback": [
            "\u001b[0;31m---------------------------------------------------------------------------\u001b[0m",
            "\u001b[0;31mNameError\u001b[0m                                 Traceback (most recent call last)",
            "\u001b[0;32m<ipython-input-25-21d62b1076d8>\u001b[0m in \u001b[0;36m<module>\u001b[0;34m()\u001b[0m\n\u001b[0;32m----> 1\u001b[0;31m \u001b[0mprint\u001b[0m\u001b[0;34m(\u001b[0m\u001b[0mBat\u001b[0m\u001b[0;34m)\u001b[0m\u001b[0;34m\u001b[0m\u001b[0;34m\u001b[0m\u001b[0m\n\u001b[0m",
            "\u001b[0;31mNameError\u001b[0m: name 'Bat' is not defined"
          ]
        }
      ]
    },
    {
      "cell_type": "markdown",
      "source": [
        "#Advanced Printing\n",
        "เราสามารถ print code ร่วมกับข้อความได้\n",
        "\n",
        "```python\n",
        "print(f'ข้อความ{code}')\n",
        "```"
      ],
      "metadata": {
        "id": "3u4KovHhV-zw"
      }
    },
    {
      "cell_type": "markdown",
      "source": [
        "##ใน Curly Brackets { } คือเป็น Code"
      ],
      "metadata": {
        "id": "igagmlU1XX1N"
      }
    },
    {
      "cell_type": "code",
      "source": [
        "print(f'ส่วนนี้ไม่ใช่ code > 2*3 3-5 // ส่วนของ code > {2*3} {3-5}')"
      ],
      "metadata": {
        "colab": {
          "base_uri": "https://localhost:8080/"
        },
        "id": "sC5-eHSCXpmE",
        "outputId": "95f61f46-19ad-4113-d26f-12c303f39545"
      },
      "execution_count": 27,
      "outputs": [
        {
          "output_type": "stream",
          "name": "stdout",
          "text": [
            "ส่วนนี้ไม่ใช่ code > 2*3 3-5 // ส่วนของ code > 6 -2\n"
          ]
        }
      ]
    },
    {
      "cell_type": "code",
      "source": [
        "print(f'หนึ่ง บวก สอง (1+2) เท่ากับ สาม ({1+2})') #{ } Curly Brackets"
      ],
      "metadata": {
        "colab": {
          "base_uri": "https://localhost:8080/"
        },
        "id": "_KKUbrx4WuQJ",
        "outputId": "9d395bcd-3741-4b78-d269-e0dda5c78067"
      },
      "execution_count": 26,
      "outputs": [
        {
          "output_type": "stream",
          "name": "stdout",
          "text": [
            "หนึ่ง บวก สอง (1+2) เท่ากับ สาม (3)\n"
          ]
        }
      ]
    },
    {
      "cell_type": "code",
      "source": [
        "a = 1\n",
        "b = 2\n",
        "print(f'หนึ่ง บวก สอง ({a}+{b}) เท่ากับ สาม ({a+b})')"
      ],
      "metadata": {
        "colab": {
          "base_uri": "https://localhost:8080/"
        },
        "id": "t9Yh3cP0Xmrq",
        "outputId": "19bfc394-2f7a-4e75-c93e-a8736f9cd8b2"
      },
      "execution_count": 28,
      "outputs": [
        {
          "output_type": "stream",
          "name": "stdout",
          "text": [
            "หนึ่ง บวก สอง (1+2) เท่ากับ สาม (3)\n"
          ]
        }
      ]
    },
    {
      "cell_type": "code",
      "source": [
        "a = 5\n",
        "b = 2"
      ],
      "metadata": {
        "id": "PYAK4_2TY0_c"
      },
      "execution_count": 29,
      "outputs": []
    },
    {
      "cell_type": "code",
      "source": [
        "print(f'{a}+{b} = {a+b}')"
      ],
      "metadata": {
        "colab": {
          "base_uri": "https://localhost:8080/"
        },
        "id": "VSBeUtlDY5IN",
        "outputId": "a2db54b7-5fa1-4206-e98c-0130c1f1d17a"
      },
      "execution_count": 30,
      "outputs": [
        {
          "output_type": "stream",
          "name": "stdout",
          "text": [
            "5+2 = 7\n"
          ]
        }
      ]
    },
    {
      "cell_type": "markdown",
      "source": [
        "#ชนิดของตัวแปร"
      ],
      "metadata": {
        "id": "Y0c-3dotZwts"
      }
    },
    {
      "cell_type": "markdown",
      "source": [
        "##Char(acter) (ตัวอักษร)"
      ],
      "metadata": {
        "id": "MzqAdVhBZzMO"
      }
    },
    {
      "cell_type": "code",
      "source": [
        "a = 'Ch'"
      ],
      "metadata": {
        "id": "rdk6l_1nZ6uk"
      },
      "execution_count": 31,
      "outputs": []
    },
    {
      "cell_type": "code",
      "source": [
        "b = 'aracter'"
      ],
      "metadata": {
        "id": "m8kj2UhnZ9i9"
      },
      "execution_count": 33,
      "outputs": []
    },
    {
      "cell_type": "code",
      "source": [
        "print(f'a={a} b={b}, then {a}+{b} = {a+b}')"
      ],
      "metadata": {
        "colab": {
          "base_uri": "https://localhost:8080/"
        },
        "id": "ITvdVi6aaCFL",
        "outputId": "d2ca3f7f-b93f-4818-cc28-6e7b056a6390"
      },
      "execution_count": 35,
      "outputs": [
        {
          "output_type": "stream",
          "name": "stdout",
          "text": [
            "a=Ch b=aracter, then Ch+aracter = Character\n"
          ]
        }
      ]
    },
    {
      "cell_type": "code",
      "source": [
        "A = 'c'\n",
        "B = 'a'"
      ],
      "metadata": {
        "id": "h1-q9ldOdy_G"
      },
      "execution_count": 36,
      "outputs": []
    },
    {
      "cell_type": "code",
      "source": [
        "print(A+B)"
      ],
      "metadata": {
        "colab": {
          "base_uri": "https://localhost:8080/"
        },
        "id": "SbTZdOued2GJ",
        "outputId": "32d259ab-1ca6-45cb-924f-00d47e952bec"
      },
      "execution_count": 37,
      "outputs": [
        {
          "output_type": "stream",
          "name": "stdout",
          "text": [
            "ca\n"
          ]
        }
      ]
    },
    {
      "cell_type": "markdown",
      "source": [
        "##int(eger) (จำนวนเต็ม)"
      ],
      "metadata": {
        "id": "zKeIY_Emd3-3"
      }
    },
    {
      "cell_type": "code",
      "source": [
        "int_a = 7\n",
        "int_b = 2"
      ],
      "metadata": {
        "id": "C7YUAO-Td-eY"
      },
      "execution_count": 38,
      "outputs": []
    },
    {
      "cell_type": "code",
      "source": [
        "int_c = int_a + int_b\n",
        "print(int_c)"
      ],
      "metadata": {
        "colab": {
          "base_uri": "https://localhost:8080/"
        },
        "id": "9q1ka702eB-A",
        "outputId": "423d3e27-d783-401e-f539-7fb88147d00d"
      },
      "execution_count": 39,
      "outputs": [
        {
          "output_type": "stream",
          "name": "stdout",
          "text": [
            "9\n"
          ]
        }
      ]
    },
    {
      "cell_type": "markdown",
      "source": [
        "##float (จำนวนจริง ทศนิยม)"
      ],
      "metadata": {
        "id": "FV-BO9mYeDas"
      }
    },
    {
      "cell_type": "code",
      "source": [
        "fl_a = 7.\n",
        "fl_b = 2.571"
      ],
      "metadata": {
        "id": "zb2Mjlh4eIgV"
      },
      "execution_count": 40,
      "outputs": []
    },
    {
      "cell_type": "code",
      "source": [
        "fl_a"
      ],
      "metadata": {
        "colab": {
          "base_uri": "https://localhost:8080/"
        },
        "id": "QgJvoWsheLDA",
        "outputId": "8ac43807-06c6-459b-efad-b13863f91fc8"
      },
      "execution_count": 41,
      "outputs": [
        {
          "output_type": "execute_result",
          "data": {
            "text/plain": [
              "7.0"
            ]
          },
          "metadata": {},
          "execution_count": 41
        }
      ]
    },
    {
      "cell_type": "code",
      "source": [
        "fl_b"
      ],
      "metadata": {
        "colab": {
          "base_uri": "https://localhost:8080/"
        },
        "id": "qbg4-7MeeNEZ",
        "outputId": "b7299810-0de0-4d3a-8ecd-b78d405d9f0f"
      },
      "execution_count": 42,
      "outputs": [
        {
          "output_type": "execute_result",
          "data": {
            "text/plain": [
              "2.571"
            ]
          },
          "metadata": {},
          "execution_count": 42
        }
      ]
    },
    {
      "cell_type": "code",
      "source": [
        "print(fl_a)"
      ],
      "metadata": {
        "colab": {
          "base_uri": "https://localhost:8080/"
        },
        "id": "DI4WggyceOYT",
        "outputId": "da9c8cff-1d9a-4ea0-852f-8a6d37355096"
      },
      "execution_count": 43,
      "outputs": [
        {
          "output_type": "stream",
          "name": "stdout",
          "text": [
            "7.0\n"
          ]
        }
      ]
    },
    {
      "cell_type": "markdown",
      "source": [
        "##boolean (ตัวแปรที่มีค่า True หรือ False) ตรรกศาสตร์"
      ],
      "metadata": {
        "id": "OB0TfYS6eP7E"
      }
    },
    {
      "cell_type": "code",
      "source": [
        "b_T = True"
      ],
      "metadata": {
        "id": "STZ25MyBeS2y"
      },
      "execution_count": 44,
      "outputs": []
    },
    {
      "cell_type": "code",
      "source": [
        "b_F = False"
      ],
      "metadata": {
        "id": "3eezxQK2eUNR"
      },
      "execution_count": 45,
      "outputs": []
    },
    {
      "cell_type": "code",
      "source": [
        "print(b_T and b_F)"
      ],
      "metadata": {
        "colab": {
          "base_uri": "https://localhost:8080/"
        },
        "id": "L8-QVRrxeWPa",
        "outputId": "f611d984-8418-49ee-bf15-e75f9954d060"
      },
      "execution_count": 46,
      "outputs": [
        {
          "output_type": "stream",
          "name": "stdout",
          "text": [
            "False\n"
          ]
        }
      ]
    },
    {
      "cell_type": "code",
      "source": [
        "print(b_T or b_F)"
      ],
      "metadata": {
        "colab": {
          "base_uri": "https://localhost:8080/"
        },
        "id": "WOtruG-yeX82",
        "outputId": "0be5df97-5920-4f96-a796-bb299c80e5ab"
      },
      "execution_count": 47,
      "outputs": [
        {
          "output_type": "stream",
          "name": "stdout",
          "text": [
            "True\n"
          ]
        }
      ]
    },
    {
      "cell_type": "markdown",
      "source": [
        "##complex (จำนวนเชิงซ้อน)"
      ],
      "metadata": {
        "id": "SZqLU8FQedYr"
      }
    },
    {
      "cell_type": "code",
      "source": [
        "x = 1 + 2j"
      ],
      "metadata": {
        "id": "XpZjIbbXef4l"
      },
      "execution_count": 48,
      "outputs": []
    },
    {
      "cell_type": "code",
      "source": [
        "print(x)"
      ],
      "metadata": {
        "colab": {
          "base_uri": "https://localhost:8080/"
        },
        "id": "0LgLM8IxeiLt",
        "outputId": "a18bfa1f-06de-4c2d-c8b0-8d438550ce88"
      },
      "execution_count": 49,
      "outputs": [
        {
          "output_type": "stream",
          "name": "stdout",
          "text": [
            "(1+2j)\n"
          ]
        }
      ]
    },
    {
      "cell_type": "markdown",
      "source": [
        "##เราสามารถตรวจสอบชนิดของตัวแปรด้วยคำสั่ง type()\n",
        "```\n",
        "type()\n",
        "```"
      ],
      "metadata": {
        "id": "mxYcwbTtelJJ"
      }
    },
    {
      "cell_type": "code",
      "source": [
        "print(f'ตัวแปร x ค่าคือ {x} ชนิด {type(x)}')"
      ],
      "metadata": {
        "colab": {
          "base_uri": "https://localhost:8080/"
        },
        "id": "9nEdmmcweuZo",
        "outputId": "51627df2-3455-4cf8-a2db-d39403f2cf29"
      },
      "execution_count": 50,
      "outputs": [
        {
          "output_type": "stream",
          "name": "stdout",
          "text": [
            "ตัวแปร x ค่าคือ (1+2j) ชนิด <class 'complex'>\n"
          ]
        }
      ]
    },
    {
      "cell_type": "code",
      "source": [
        "print(f'ตัวแปร A ค่าคือ {A} ชนิด {type(A)}')"
      ],
      "metadata": {
        "colab": {
          "base_uri": "https://localhost:8080/"
        },
        "id": "YrrwNOKmexVJ",
        "outputId": "4f0f009a-cd8f-46fd-e9fe-cf8d59249fe9"
      },
      "execution_count": 51,
      "outputs": [
        {
          "output_type": "stream",
          "name": "stdout",
          "text": [
            "ตัวแปร A ค่าคือ c ชนิด <class 'str'>\n"
          ]
        }
      ]
    },
    {
      "cell_type": "code",
      "source": [
        "print(f'ตัวแปร a ค่าคือ {a} ชนิด {type(a)}')"
      ],
      "metadata": {
        "colab": {
          "base_uri": "https://localhost:8080/"
        },
        "id": "GCia_5yNe3Yv",
        "outputId": "8f815106-7870-467d-a81f-807d934ea7d9"
      },
      "execution_count": 52,
      "outputs": [
        {
          "output_type": "stream",
          "name": "stdout",
          "text": [
            "ตัวแปร a ค่าคือ Ch ชนิด <class 'str'>\n"
          ]
        }
      ]
    },
    {
      "cell_type": "markdown",
      "source": [
        "###จบวันที่ 29 มิ.ย. 65"
      ],
      "metadata": {
        "id": "jKfGW9OSfEqU"
      }
    },
    {
      "cell_type": "markdown",
      "source": [
        "##การแปลงชนิดของตัวแปร (Variable Casting)"
      ],
      "metadata": {
        "id": "lGqb17WHfKXg"
      }
    },
    {
      "cell_type": "code",
      "source": [
        "print(f'int_a = {int_a} int_b = {int_b} fl_a = {fl_a} fl_b = {fl_b}')"
      ],
      "metadata": {
        "colab": {
          "base_uri": "https://localhost:8080/"
        },
        "id": "gIWNczm4fOYI",
        "outputId": "4675c59f-9823-4468-d6bb-da1251c66d1b"
      },
      "execution_count": 53,
      "outputs": [
        {
          "output_type": "stream",
          "name": "stdout",
          "text": [
            "int_a = 7 int_b = 2 fl_a = 7.0 fl_b = 2.571\n"
          ]
        }
      ]
    },
    {
      "cell_type": "code",
      "source": [
        "str_a = '6'\n",
        "str_b = '-2'"
      ],
      "metadata": {
        "id": "RFBfkAsHfT1n"
      },
      "execution_count": 54,
      "outputs": []
    },
    {
      "cell_type": "code",
      "source": [
        "str_a2int = int(str_a)\n",
        "print(f'ตัวแปร str_a2int ค่าคือ {str_a2int} ชนิด {type(str_a2int)}')"
      ],
      "metadata": {
        "colab": {
          "base_uri": "https://localhost:8080/"
        },
        "id": "QVD7JmEGfVa8",
        "outputId": "c40d3fc1-66cf-40c1-c193-daf36900a7ad"
      },
      "execution_count": 55,
      "outputs": [
        {
          "output_type": "stream",
          "name": "stdout",
          "text": [
            "ตัวแปร str_a2int ค่าคือ 6 ชนิด <class 'int'>\n"
          ]
        }
      ]
    },
    {
      "cell_type": "code",
      "source": [
        "str_a2int + int_a"
      ],
      "metadata": {
        "colab": {
          "base_uri": "https://localhost:8080/"
        },
        "id": "xIi_SBxUfXk-",
        "outputId": "43902675-0197-4abb-eeef-ecec0d3b9603"
      },
      "execution_count": 56,
      "outputs": [
        {
          "output_type": "execute_result",
          "data": {
            "text/plain": [
              "13"
            ]
          },
          "metadata": {},
          "execution_count": 56
        }
      ]
    },
    {
      "cell_type": "code",
      "source": [
        "str_a + int_a"
      ],
      "metadata": {
        "colab": {
          "base_uri": "https://localhost:8080/",
          "height": 165
        },
        "id": "nUsRLTf7fZep",
        "outputId": "8f39660a-ce47-4cd0-9471-2587ff48c6c0"
      },
      "execution_count": 57,
      "outputs": [
        {
          "output_type": "error",
          "ename": "TypeError",
          "evalue": "ignored",
          "traceback": [
            "\u001b[0;31m---------------------------------------------------------------------------\u001b[0m",
            "\u001b[0;31mTypeError\u001b[0m                                 Traceback (most recent call last)",
            "\u001b[0;32m<ipython-input-57-f0968e4d612f>\u001b[0m in \u001b[0;36m<module>\u001b[0;34m()\u001b[0m\n\u001b[0;32m----> 1\u001b[0;31m \u001b[0mstr_a\u001b[0m \u001b[0;34m+\u001b[0m \u001b[0mint_a\u001b[0m\u001b[0;34m\u001b[0m\u001b[0;34m\u001b[0m\u001b[0m\n\u001b[0m",
            "\u001b[0;31mTypeError\u001b[0m: can only concatenate str (not \"int\") to str"
          ]
        }
      ]
    },
    {
      "cell_type": "code",
      "source": [
        "int_a + str_a"
      ],
      "metadata": {
        "colab": {
          "base_uri": "https://localhost:8080/",
          "height": 165
        },
        "id": "7kTRrNmNfbDU",
        "outputId": "5dadcf62-a0b3-4479-a284-c429d1aa3eec"
      },
      "execution_count": 58,
      "outputs": [
        {
          "output_type": "error",
          "ename": "TypeError",
          "evalue": "ignored",
          "traceback": [
            "\u001b[0;31m---------------------------------------------------------------------------\u001b[0m",
            "\u001b[0;31mTypeError\u001b[0m                                 Traceback (most recent call last)",
            "\u001b[0;32m<ipython-input-58-6d08941122bb>\u001b[0m in \u001b[0;36m<module>\u001b[0;34m()\u001b[0m\n\u001b[0;32m----> 1\u001b[0;31m \u001b[0mint_a\u001b[0m \u001b[0;34m+\u001b[0m \u001b[0mstr_a\u001b[0m\u001b[0;34m\u001b[0m\u001b[0;34m\u001b[0m\u001b[0m\n\u001b[0m",
            "\u001b[0;31mTypeError\u001b[0m: unsupported operand type(s) for +: 'int' and 'str'"
          ]
        }
      ]
    },
    {
      "cell_type": "code",
      "source": [
        "int(fl_b)"
      ],
      "metadata": {
        "colab": {
          "base_uri": "https://localhost:8080/"
        },
        "id": "1UUBWEGIfdEj",
        "outputId": "25a2aefd-9b62-4ae8-faa8-452cadf2c618"
      },
      "execution_count": 59,
      "outputs": [
        {
          "output_type": "execute_result",
          "data": {
            "text/plain": [
              "2"
            ]
          },
          "metadata": {},
          "execution_count": 59
        }
      ]
    },
    {
      "cell_type": "code",
      "source": [
        "float(int_a)"
      ],
      "metadata": {
        "colab": {
          "base_uri": "https://localhost:8080/"
        },
        "id": "o3cBf25wfejR",
        "outputId": "e36340a6-4a5f-4866-e8d9-48efe59d03ee"
      },
      "execution_count": 60,
      "outputs": [
        {
          "output_type": "execute_result",
          "data": {
            "text/plain": [
              "7.0"
            ]
          },
          "metadata": {},
          "execution_count": 60
        }
      ]
    },
    {
      "cell_type": "code",
      "source": [
        "str(fl_b)"
      ],
      "metadata": {
        "colab": {
          "base_uri": "https://localhost:8080/",
          "height": 36
        },
        "id": "nizmSFlsffzS",
        "outputId": "83fccc55-9009-48d9-cf46-65aceb70140d"
      },
      "execution_count": 61,
      "outputs": [
        {
          "output_type": "execute_result",
          "data": {
            "text/plain": [
              "'2.571'"
            ],
            "application/vnd.google.colaboratory.intrinsic+json": {
              "type": "string"
            }
          },
          "metadata": {},
          "execution_count": 61
        }
      ]
    },
    {
      "cell_type": "markdown",
      "source": [
        "##Operation เอาตัวแปรสองตัวมาทำอะไรกัน\n",
        "operators (บวก (+), ลบ (-), คูณ (*), หาร (/), modulo (%), and (&), or (|))"
      ],
      "metadata": {
        "id": "op3SPqt3fh_r"
      }
    },
    {
      "cell_type": "code",
      "source": [
        "fl_a + int_b"
      ],
      "metadata": {
        "colab": {
          "base_uri": "https://localhost:8080/"
        },
        "id": "F69VwyY3flkH",
        "outputId": "0ff7f0aa-6f42-4ee7-caa3-ee849e3102f9"
      },
      "execution_count": 62,
      "outputs": [
        {
          "output_type": "execute_result",
          "data": {
            "text/plain": [
              "9.0"
            ]
          },
          "metadata": {},
          "execution_count": 62
        }
      ]
    },
    {
      "cell_type": "code",
      "source": [
        "9%2 #การหาร เอาเศษ"
      ],
      "metadata": {
        "colab": {
          "base_uri": "https://localhost:8080/"
        },
        "id": "o4ENGPotfoB7",
        "outputId": "57115d4b-a95f-4885-e0ce-81cc213bd693"
      },
      "execution_count": 63,
      "outputs": [
        {
          "output_type": "execute_result",
          "data": {
            "text/plain": [
              "1"
            ]
          },
          "metadata": {},
          "execution_count": 63
        }
      ]
    },
    {
      "cell_type": "code",
      "source": [
        "100%2"
      ],
      "metadata": {
        "colab": {
          "base_uri": "https://localhost:8080/"
        },
        "id": "6T-hLth2fpx9",
        "outputId": "fc72dd32-66e0-4f05-9304-5261e4417418"
      },
      "execution_count": 64,
      "outputs": [
        {
          "output_type": "execute_result",
          "data": {
            "text/plain": [
              "0"
            ]
          },
          "metadata": {},
          "execution_count": 64
        }
      ]
    },
    {
      "cell_type": "code",
      "source": [
        "int_a / int_b"
      ],
      "metadata": {
        "colab": {
          "base_uri": "https://localhost:8080/"
        },
        "id": "6BMUJClQfq8w",
        "outputId": "6edada51-4d2f-46c8-f365-4197b14deac4"
      },
      "execution_count": 65,
      "outputs": [
        {
          "output_type": "execute_result",
          "data": {
            "text/plain": [
              "3.5"
            ]
          },
          "metadata": {},
          "execution_count": 65
        }
      ]
    },
    {
      "cell_type": "code",
      "source": [
        "int(int_a / int_b)"
      ],
      "metadata": {
        "colab": {
          "base_uri": "https://localhost:8080/"
        },
        "id": "79_4RWD9fsmj",
        "outputId": "942edd35-73b4-48a1-e422-5c71160381b7"
      },
      "execution_count": 66,
      "outputs": [
        {
          "output_type": "execute_result",
          "data": {
            "text/plain": [
              "3"
            ]
          },
          "metadata": {},
          "execution_count": 66
        }
      ]
    },
    {
      "cell_type": "code",
      "source": [
        "False & False"
      ],
      "metadata": {
        "colab": {
          "base_uri": "https://localhost:8080/"
        },
        "id": "1LFBi0EGft6W",
        "outputId": "327080d4-0f9d-4d04-b9e6-05e4c7b1440d"
      },
      "execution_count": 67,
      "outputs": [
        {
          "output_type": "execute_result",
          "data": {
            "text/plain": [
              "False"
            ]
          },
          "metadata": {},
          "execution_count": 67
        }
      ]
    },
    {
      "cell_type": "code",
      "source": [
        "False & True"
      ],
      "metadata": {
        "colab": {
          "base_uri": "https://localhost:8080/"
        },
        "id": "ChgOfLhEfvFe",
        "outputId": "3a5af69a-57e4-4551-bff5-4366eb92600a"
      },
      "execution_count": 68,
      "outputs": [
        {
          "output_type": "execute_result",
          "data": {
            "text/plain": [
              "False"
            ]
          },
          "metadata": {},
          "execution_count": 68
        }
      ]
    },
    {
      "cell_type": "code",
      "source": [
        "False | True"
      ],
      "metadata": {
        "colab": {
          "base_uri": "https://localhost:8080/"
        },
        "id": "Ho0SZAr5fyLI",
        "outputId": "9abf0705-dc08-4963-ae41-80fc2a7e4de3"
      },
      "execution_count": 69,
      "outputs": [
        {
          "output_type": "execute_result",
          "data": {
            "text/plain": [
              "True"
            ]
          },
          "metadata": {},
          "execution_count": 69
        }
      ]
    },
    {
      "cell_type": "markdown",
      "source": [
        "##String operations\n",
        "'+' -> concat, '*' -> repeat"
      ],
      "metadata": {
        "id": "BcdAQIikf2rU"
      }
    },
    {
      "cell_type": "code",
      "source": [
        "st_test1 = 'Department of Statistics, '\n",
        "st_test2 = 'Faculty of Science'"
      ],
      "metadata": {
        "id": "xdGyEm-6f6qo"
      },
      "execution_count": 70,
      "outputs": []
    },
    {
      "cell_type": "code",
      "source": [
        "print(st_test1+st_test2)"
      ],
      "metadata": {
        "colab": {
          "base_uri": "https://localhost:8080/"
        },
        "id": "Sp3WRaXegD5r",
        "outputId": "e7604f91-0d44-44b4-a9ed-e3698c29c0c0"
      },
      "execution_count": 71,
      "outputs": [
        {
          "output_type": "stream",
          "name": "stdout",
          "text": [
            "Department of Statistics, Faculty of Science\n"
          ]
        }
      ]
    },
    {
      "cell_type": "code",
      "source": [
        "print(10*'t')"
      ],
      "metadata": {
        "colab": {
          "base_uri": "https://localhost:8080/"
        },
        "id": "OQMFLWCtgFdc",
        "outputId": "0275c269-0035-4c03-80bd-2b716ef3ab37"
      },
      "execution_count": 72,
      "outputs": [
        {
          "output_type": "stream",
          "name": "stdout",
          "text": [
            "tttttttttt\n"
          ]
        }
      ]
    },
    {
      "cell_type": "code",
      "source": [
        "print(3*st_test1)"
      ],
      "metadata": {
        "colab": {
          "base_uri": "https://localhost:8080/"
        },
        "id": "YxZMPb5bgG4z",
        "outputId": "77d6aeaa-b385-41c6-9875-abf874a07d70"
      },
      "execution_count": 73,
      "outputs": [
        {
          "output_type": "stream",
          "name": "stdout",
          "text": [
            "Department of Statistics, Department of Statistics, Department of Statistics, \n"
          ]
        }
      ]
    },
    {
      "cell_type": "markdown",
      "source": [
        "##replace() แทนที่ string"
      ],
      "metadata": {
        "id": "Q2nZdntEgJc6"
      }
    },
    {
      "cell_type": "code",
      "source": [
        "st_test1.replace('e',' ')"
      ],
      "metadata": {
        "colab": {
          "base_uri": "https://localhost:8080/",
          "height": 36
        },
        "id": "PwOIpWatgKzE",
        "outputId": "49e9c4a7-c9b7-4997-dffd-4c4f873f3124"
      },
      "execution_count": 74,
      "outputs": [
        {
          "output_type": "execute_result",
          "data": {
            "text/plain": [
              "'D partm nt of Statistics, '"
            ],
            "application/vnd.google.colaboratory.intrinsic+json": {
              "type": "string"
            }
          },
          "metadata": {},
          "execution_count": 74
        }
      ]
    },
    {
      "cell_type": "code",
      "source": [
        "st_test1.replace('e','')"
      ],
      "metadata": {
        "colab": {
          "base_uri": "https://localhost:8080/",
          "height": 36
        },
        "id": "NmXdSWQFgNqo",
        "outputId": "7c8f1ef8-aa8f-419a-8fa5-f9e8a1775ac9"
      },
      "execution_count": 75,
      "outputs": [
        {
          "output_type": "execute_result",
          "data": {
            "text/plain": [
              "'Dpartmnt of Statistics, '"
            ],
            "application/vnd.google.colaboratory.intrinsic+json": {
              "type": "string"
            }
          },
          "metadata": {},
          "execution_count": 75
        }
      ]
    },
    {
      "cell_type": "code",
      "source": [
        "st_test1"
      ],
      "metadata": {
        "colab": {
          "base_uri": "https://localhost:8080/",
          "height": 36
        },
        "id": "O4aYZ1i6gPLk",
        "outputId": "5e5000fe-9401-4c01-b496-26bbbf5b24cd"
      },
      "execution_count": 76,
      "outputs": [
        {
          "output_type": "execute_result",
          "data": {
            "text/plain": [
              "'Department of Statistics, '"
            ],
            "application/vnd.google.colaboratory.intrinsic+json": {
              "type": "string"
            }
          },
          "metadata": {},
          "execution_count": 76
        }
      ]
    },
    {
      "cell_type": "code",
      "source": [
        "'Department of Statistics, '.replace('a','x')"
      ],
      "metadata": {
        "colab": {
          "base_uri": "https://localhost:8080/",
          "height": 36
        },
        "id": "jCeWWyqHgQla",
        "outputId": "5c57dc12-d70f-43fe-ebe2-04ec25acc389"
      },
      "execution_count": 77,
      "outputs": [
        {
          "output_type": "execute_result",
          "data": {
            "text/plain": [
              "'Depxrtment of Stxtistics, '"
            ],
            "application/vnd.google.colaboratory.intrinsic+json": {
              "type": "string"
            }
          },
          "metadata": {},
          "execution_count": 77
        }
      ]
    },
    {
      "cell_type": "markdown",
      "source": [
        "##split() แยก string"
      ],
      "metadata": {
        "id": "yCCMNu1cgSNd"
      }
    },
    {
      "cell_type": "code",
      "source": [
        "'a b c d e f g'.split()"
      ],
      "metadata": {
        "colab": {
          "base_uri": "https://localhost:8080/"
        },
        "id": "hrLHdwG2gTq1",
        "outputId": "3939db59-ccf5-4f7b-a2f2-fe10e343204a"
      },
      "execution_count": 78,
      "outputs": [
        {
          "output_type": "execute_result",
          "data": {
            "text/plain": [
              "['a', 'b', 'c', 'd', 'e', 'f', 'g']"
            ]
          },
          "metadata": {},
          "execution_count": 78
        }
      ]
    },
    {
      "cell_type": "code",
      "source": [
        "'a,b/c,d e/f g'.split('/')"
      ],
      "metadata": {
        "colab": {
          "base_uri": "https://localhost:8080/"
        },
        "id": "JTTAbO1RgWHC",
        "outputId": "448eecb6-1688-41e9-b7c4-045dec9bf921"
      },
      "execution_count": 79,
      "outputs": [
        {
          "output_type": "execute_result",
          "data": {
            "text/plain": [
              "['a,b', 'c,d e', 'f g']"
            ]
          },
          "metadata": {},
          "execution_count": 79
        }
      ]
    }
  ]
}