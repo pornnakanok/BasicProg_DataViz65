{
  "nbformat": 4,
  "nbformat_minor": 0,
  "metadata": {
    "colab": {
      "name": "Recap 1-3 Quiz1.ipynb",
      "provenance": [],
      "include_colab_link": true
    },
    "kernelspec": {
      "name": "python3",
      "display_name": "Python 3"
    },
    "language_info": {
      "name": "python"
    }
  },
  "cells": [
    {
      "cell_type": "markdown",
      "metadata": {
        "id": "view-in-github",
        "colab_type": "text"
      },
      "source": [
        "<a href=\"https://colab.research.google.com/github/pornnakanok/BasicProg_DataViz65/blob/main/Recap_1_3_Quiz1.ipynb\" target=\"_parent\"><img src=\"https://colab.research.google.com/assets/colab-badge.svg\" alt=\"Open In Colab\"/></a>"
      ]
    },
    {
      "cell_type": "markdown",
      "source": [
        "Quiz 1 \n",
        "\n",
        "คำนวณเวลาเป็นความต่างของเวลาเป็นวินาทีของช่วงเวลาต่อไปนี้โดยใช้คำสั่ง split() ช่วย และ print ออกมาให้สวยงาม\n",
        "\n",
        "* 09:11:50 - 12:30:15\n",
        "* 13:41:07 - 20:00:18\n",
        "* 21:30:15 - 00:00:00\n",
        "* 00:00:00 - 23:59:59\n",
        "\n",
        "\n",
        "\n",
        "\n",
        "\n"
      ],
      "metadata": {
        "id": "FKKg2s03yfKC"
      }
    },
    {
      "cell_type": "code",
      "source": [
        "a1 = '09:11:50'\n",
        "sp_a1 = a1.split(':')\n",
        "print(sp_a1)"
      ],
      "metadata": {
        "colab": {
          "base_uri": "https://localhost:8080/"
        },
        "id": "0u0jGdK3GYQf",
        "outputId": "888f54c5-948e-49a3-bdef-d9bb59e65bd4"
      },
      "execution_count": 49,
      "outputs": [
        {
          "output_type": "stream",
          "name": "stdout",
          "text": [
            "['09', '11', '50']\n"
          ]
        }
      ]
    },
    {
      "cell_type": "code",
      "source": [
        "total_sec1 = int(sp_a1[0])*3600+int (sp_a1[1])*60+int (sp_a1[2])\n",
        "print(total_sec1)"
      ],
      "metadata": {
        "colab": {
          "base_uri": "https://localhost:8080/"
        },
        "id": "jn3eNUEGHuke",
        "outputId": "2248760e-84a0-4bcd-c8a8-454dce059eb7"
      },
      "execution_count": 30,
      "outputs": [
        {
          "output_type": "stream",
          "name": "stdout",
          "text": [
            "33110\n"
          ]
        }
      ]
    },
    {
      "cell_type": "code",
      "source": [
        "a2 = '12:30:15'\n",
        "sp_a2 = a2.split(':')\n",
        "print(sp_a2)"
      ],
      "metadata": {
        "colab": {
          "base_uri": "https://localhost:8080/"
        },
        "id": "cy1lgOt0JLFy",
        "outputId": "356053df-ec58-4eea-ec10-a70dab365731"
      },
      "execution_count": 32,
      "outputs": [
        {
          "output_type": "stream",
          "name": "stdout",
          "text": [
            "['12', '30', '15']\n"
          ]
        }
      ]
    },
    {
      "cell_type": "code",
      "source": [
        "total_sec2 = int(sp_a2[0])*3600+int (sp_a2[1])*60+int (sp_a2[2])\n",
        "print(total_sec2)"
      ],
      "metadata": {
        "colab": {
          "base_uri": "https://localhost:8080/"
        },
        "id": "SnenvpfQLDBv",
        "outputId": "1da0c08b-d0a7-480c-e6c8-66083f4a00fb"
      },
      "execution_count": 33,
      "outputs": [
        {
          "output_type": "stream",
          "name": "stdout",
          "text": [
            "45015\n"
          ]
        }
      ]
    },
    {
      "cell_type": "code",
      "source": [
        "print(f'ความต่างเวลาของ {a1} - {a2} เป็นวินาทีได้เท่ากับ {total_sec2 - total_sec1} วินาที ')"
      ],
      "metadata": {
        "colab": {
          "base_uri": "https://localhost:8080/"
        },
        "id": "s83ZLU7mLVRJ",
        "outputId": "ec7eb1b9-255c-432a-f8c2-3b6be797142b"
      },
      "execution_count": 37,
      "outputs": [
        {
          "output_type": "stream",
          "name": "stdout",
          "text": [
            "ความต่างเวลาของ 09:11:50 - 12:30:15 เป็นวินาทีได้เท่ากับ 11905 วินาที \n"
          ]
        }
      ]
    },
    {
      "cell_type": "code",
      "source": [
        "b1 = '13:41:07'\n",
        "sp_b1 = b1.split(':')\n",
        "print(sp_b1)"
      ],
      "metadata": {
        "colab": {
          "base_uri": "https://localhost:8080/"
        },
        "id": "yCOJnDt9MggS",
        "outputId": "d8d79751-f6fb-46ef-826d-832e9cde4597"
      },
      "execution_count": 38,
      "outputs": [
        {
          "output_type": "stream",
          "name": "stdout",
          "text": [
            "['13', '41', '07']\n"
          ]
        }
      ]
    },
    {
      "cell_type": "code",
      "source": [
        "total_sec3 = int(sp_b1[0])*3600+int (sp_b1[1])*60+int (sp_b1[2])\n",
        "print(total_sec3)"
      ],
      "metadata": {
        "colab": {
          "base_uri": "https://localhost:8080/"
        },
        "id": "Pjrx-04FMSVr",
        "outputId": "e7854dab-668c-4ed7-f5a8-1d2c0c8dbb1d"
      },
      "execution_count": 39,
      "outputs": [
        {
          "output_type": "stream",
          "name": "stdout",
          "text": [
            "49267\n"
          ]
        }
      ]
    },
    {
      "cell_type": "code",
      "source": [
        "b2 = '20:00:18'\n",
        "sp_b2 = b2.split(':')\n",
        "print(sp_b2)"
      ],
      "metadata": {
        "colab": {
          "base_uri": "https://localhost:8080/"
        },
        "id": "ovdEwcsWM1Qr",
        "outputId": "12c469b4-e3fc-451a-f407-b2631207efb5"
      },
      "execution_count": 40,
      "outputs": [
        {
          "output_type": "stream",
          "name": "stdout",
          "text": [
            "['20', '00', '18']\n"
          ]
        }
      ]
    },
    {
      "cell_type": "code",
      "source": [
        "total_sec4 = int(sp_b2[0])*3600+int (sp_b2[1])*60+int (sp_b2[2])\n",
        "print(total_sec4)"
      ],
      "metadata": {
        "colab": {
          "base_uri": "https://localhost:8080/"
        },
        "id": "QIPrvewyM-m0",
        "outputId": "9c9bb854-e3a6-41ab-aaae-0cfc0658c7d8"
      },
      "execution_count": 41,
      "outputs": [
        {
          "output_type": "stream",
          "name": "stdout",
          "text": [
            "72018\n"
          ]
        }
      ]
    },
    {
      "cell_type": "code",
      "source": [
        "print(f'ความต่างเวลาของ {b1} - {b2} เป็นวินาทีได้เท่ากับ {total_sec4 - total_sec3} วินาที ')"
      ],
      "metadata": {
        "colab": {
          "base_uri": "https://localhost:8080/"
        },
        "id": "GH8qB1fyM-Yn",
        "outputId": "5649efe6-863d-444c-ae95-84571bb20e85"
      },
      "execution_count": 42,
      "outputs": [
        {
          "output_type": "stream",
          "name": "stdout",
          "text": [
            "ความต่างเวลาของ 13:41:07 - 20:00:18 เป็นวินาทีได้เท่ากับ 22751 วินาที \n"
          ]
        }
      ]
    },
    {
      "cell_type": "code",
      "source": [
        "c1 = '21:30:15'\n",
        "sp_c1 = c1.split(':')\n",
        "print(sp_c1)"
      ],
      "metadata": {
        "colab": {
          "base_uri": "https://localhost:8080/"
        },
        "id": "WpdFLpACNMcA",
        "outputId": "b8d80a16-cca7-44ee-b71d-11bc5abbbae0"
      },
      "execution_count": 43,
      "outputs": [
        {
          "output_type": "stream",
          "name": "stdout",
          "text": [
            "['21', '30', '15']\n"
          ]
        }
      ]
    },
    {
      "cell_type": "code",
      "source": [
        "total_sec5 = int(sp_c1[0])*3600+int (sp_c1[1])*60+int (sp_c1[2])\n",
        "print(total_sec5)"
      ],
      "metadata": {
        "colab": {
          "base_uri": "https://localhost:8080/"
        },
        "id": "rK6r35J-NMWR",
        "outputId": "cd53635e-004c-43f6-bc15-63c55986c7d3"
      },
      "execution_count": 44,
      "outputs": [
        {
          "output_type": "stream",
          "name": "stdout",
          "text": [
            "77415\n"
          ]
        }
      ]
    },
    {
      "cell_type": "code",
      "source": [
        "c2 = '24:00:00'\n",
        "sp_c2 = c2.split(':')\n",
        "print(sp_c2)"
      ],
      "metadata": {
        "colab": {
          "base_uri": "https://localhost:8080/"
        },
        "id": "ql406kaGNMP2",
        "outputId": "635b3495-c4f1-4033-d583-df3c922371c0"
      },
      "execution_count": 46,
      "outputs": [
        {
          "output_type": "stream",
          "name": "stdout",
          "text": [
            "['24', '00', '00']\n"
          ]
        }
      ]
    },
    {
      "cell_type": "code",
      "source": [
        "total_sec6 = int(sp_c2[0])*3600+int (sp_c2[1])*60+int (sp_c2[2])\n",
        "print(total_sec6)"
      ],
      "metadata": {
        "colab": {
          "base_uri": "https://localhost:8080/"
        },
        "id": "b_tMR0S_NMGu",
        "outputId": "aee569fb-da51-46bc-9606-5f89bf627333"
      },
      "execution_count": 47,
      "outputs": [
        {
          "output_type": "stream",
          "name": "stdout",
          "text": [
            "86400\n"
          ]
        }
      ]
    },
    {
      "cell_type": "code",
      "source": [
        "print(f'ความต่างเวลาของ {c1} - {c2} เป็นวินาทีได้เท่ากับ {total_sec6 - total_sec5} วินาที ')"
      ],
      "metadata": {
        "colab": {
          "base_uri": "https://localhost:8080/"
        },
        "id": "C2TJhKBqN42n",
        "outputId": "c2ee6180-ed66-4eb1-918f-12954d917a37"
      },
      "execution_count": 48,
      "outputs": [
        {
          "output_type": "stream",
          "name": "stdout",
          "text": [
            "ความต่างเวลาของ 21:30:15 - 24:00:00 เป็นวินาทีได้เท่ากับ 8985 วินาที \n"
          ]
        }
      ]
    },
    {
      "cell_type": "code",
      "source": [
        "d1 = '00:00:00'\n",
        "sp_d1 = d1.split(':')\n",
        "print(sp_d1)"
      ],
      "metadata": {
        "colab": {
          "base_uri": "https://localhost:8080/"
        },
        "id": "pqzGCWVhOBQh",
        "outputId": "98577d97-0dd9-4591-b075-0ddcfa3c6c44"
      },
      "execution_count": 50,
      "outputs": [
        {
          "output_type": "stream",
          "name": "stdout",
          "text": [
            "['00', '00', '00']\n"
          ]
        }
      ]
    },
    {
      "cell_type": "code",
      "source": [
        "total_sec7 = int(sp_d1[0])*3600+int (sp_d1[1])*60+int (sp_d1[2])\n",
        "print(total_sec7)"
      ],
      "metadata": {
        "colab": {
          "base_uri": "https://localhost:8080/"
        },
        "id": "8beB2JZAOBNY",
        "outputId": "19f0ea07-10f2-4eb3-8399-0fba55ee7569"
      },
      "execution_count": 51,
      "outputs": [
        {
          "output_type": "stream",
          "name": "stdout",
          "text": [
            "0\n"
          ]
        }
      ]
    },
    {
      "cell_type": "code",
      "source": [
        "d2 = '23:59:59'\n",
        "sp_d2 = d2.split(':')\n",
        "print(sp_d2)"
      ],
      "metadata": {
        "colab": {
          "base_uri": "https://localhost:8080/"
        },
        "id": "TGyraQAIOBIv",
        "outputId": "60286c73-a9d4-48e2-9170-50bfdd16a2f9"
      },
      "execution_count": 52,
      "outputs": [
        {
          "output_type": "stream",
          "name": "stdout",
          "text": [
            "['23', '59', '59']\n"
          ]
        }
      ]
    },
    {
      "cell_type": "code",
      "source": [
        "total_sec8 = int(sp_d2[0])*3600+int (sp_d2[1])*60+int (sp_d2[2])\n",
        "print(total_sec8)"
      ],
      "metadata": {
        "colab": {
          "base_uri": "https://localhost:8080/"
        },
        "id": "2O7Zzr-vOBAG",
        "outputId": "96691def-d1df-4ff3-dfb3-d9c596ca2a6f"
      },
      "execution_count": 53,
      "outputs": [
        {
          "output_type": "stream",
          "name": "stdout",
          "text": [
            "86399\n"
          ]
        }
      ]
    },
    {
      "cell_type": "code",
      "source": [
        "print(f'ความต่างเวลาของ {d1} - {d2} เป็นวินาทีได้เท่ากับ {total_sec8 - total_sec7} วินาที ')"
      ],
      "metadata": {
        "colab": {
          "base_uri": "https://localhost:8080/"
        },
        "id": "7-YTJ_08OnQa",
        "outputId": "cb23d4ce-9337-4a91-8079-00b9b647c0a7"
      },
      "execution_count": 54,
      "outputs": [
        {
          "output_type": "stream",
          "name": "stdout",
          "text": [
            "ความต่างเวลาของ 00:00:00 - 23:59:59 เป็นวินาทีได้เท่ากับ 86399 วินาที \n"
          ]
        }
      ]
    }
  ]
}