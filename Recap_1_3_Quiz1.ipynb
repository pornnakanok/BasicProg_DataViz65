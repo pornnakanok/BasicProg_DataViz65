{
  "nbformat": 4,
  "nbformat_minor": 0,
  "metadata": {
    "colab": {
      "name": "Recap 1-3 Quiz1.ipynb",
      "provenance": [],
      "include_colab_link": true
    },
    "kernelspec": {
      "name": "python3",
      "display_name": "Python 3"
    },
    "language_info": {
      "name": "python"
    }
  },
  "cells": [
    {
      "cell_type": "markdown",
      "metadata": {
        "id": "view-in-github",
        "colab_type": "text"
      },
      "source": [
        "<a href=\"https://colab.research.google.com/github/pornnakanok/BasicProg_DataViz65/blob/main/Recap_1_3_Quiz1.ipynb\" target=\"_parent\"><img src=\"https://colab.research.google.com/assets/colab-badge.svg\" alt=\"Open In Colab\"/></a>"
      ]
    },
    {
      "cell_type": "markdown",
      "source": [
        "Quiz 1 \n",
        "\n",
        "คำนวณเวลาเป็นความต่างของเวลาเป็นวินาทีของช่วงเวลาต่อไปนี้โดยใช้คำสั่ง split() ช่วย และ print ออกมาให้สวยงาม\n",
        "\n",
        "* 09:11:50 - 12:30:15\n",
        "* 13:41:07 - 20:00:18\n",
        "* 21:30:15 - 00:00:00\n",
        "* 00:00:00 - 23:59:59\n",
        "\n",
        "\n",
        "\n",
        "\n",
        "\n"
      ],
      "metadata": {
        "id": "FKKg2s03yfKC"
      }
    },
    {
      "cell_type": "code",
      "source": [
        "a1 = '09:11:50'\n",
        "sp_a1 = a1.split(':')\n",
        "print(sp_a1)\n",
        "\n",
        "total_sec1 = int(sp_a1[0])*3600+int (sp_a1[1])*60+int (sp_a1[2])\n",
        "print(total_sec1)"
      ],
      "metadata": {
        "colab": {
          "base_uri": "https://localhost:8080/"
        },
        "id": "0u0jGdK3GYQf",
        "outputId": "ad03a6f6-2de1-42f4-923b-9c7e01822145"
      },
      "execution_count": 56,
      "outputs": [
        {
          "output_type": "stream",
          "name": "stdout",
          "text": [
            "['09', '11', '50']\n",
            "33110\n"
          ]
        }
      ]
    },
    {
      "cell_type": "code",
      "source": [
        "a2 = '12:30:15'\n",
        "sp_a2 = a2.split(':')\n",
        "print(sp_a2)\n",
        "\n",
        "total_sec2 = int(sp_a2[0])*3600+int (sp_a2[1])*60+int (sp_a2[2])\n",
        "print(total_sec2)"
      ],
      "metadata": {
        "colab": {
          "base_uri": "https://localhost:8080/"
        },
        "id": "cy1lgOt0JLFy",
        "outputId": "468be479-12bc-4708-ef81-c2aaa97d2422"
      },
      "execution_count": 57,
      "outputs": [
        {
          "output_type": "stream",
          "name": "stdout",
          "text": [
            "['12', '30', '15']\n",
            "45015\n"
          ]
        }
      ]
    },
    {
      "cell_type": "code",
      "source": [
        "print(f'ความต่างเวลาของ {a1} - {a2} เป็นวินาทีได้เท่ากับ {total_sec2 - total_sec1} วินาที ')"
      ],
      "metadata": {
        "colab": {
          "base_uri": "https://localhost:8080/"
        },
        "id": "s83ZLU7mLVRJ",
        "outputId": "a38f0fcd-ef57-4f4d-c29d-64c197d2a146"
      },
      "execution_count": 70,
      "outputs": [
        {
          "output_type": "stream",
          "name": "stdout",
          "text": [
            "ความต่างเวลาของ 09:11:50 - 12:30:15 เป็นวินาทีได้เท่ากับ 11905 วินาที \n"
          ]
        }
      ]
    },
    {
      "cell_type": "code",
      "source": [
        "b1 = '13:41:07'\n",
        "sp_b1 = b1.split(':')\n",
        "print(sp_b1)\n",
        "\n",
        "total_sec3 = int(sp_b1[0])*3600+int (sp_b1[1])*60+int (sp_b1[2])\n",
        "print(total_sec3)"
      ],
      "metadata": {
        "colab": {
          "base_uri": "https://localhost:8080/"
        },
        "id": "yCOJnDt9MggS",
        "outputId": "d85fd573-4efa-4229-ee4e-721b7c7c51f7"
      },
      "execution_count": 58,
      "outputs": [
        {
          "output_type": "stream",
          "name": "stdout",
          "text": [
            "['13', '41', '07']\n",
            "49267\n"
          ]
        }
      ]
    },
    {
      "cell_type": "code",
      "source": [
        "b2 = '20:00:18'\n",
        "sp_b2 = b2.split(':')\n",
        "print(sp_b2)\n",
        "\n",
        "total_sec4 = int(sp_b2[0])*3600+int (sp_b2[1])*60+int (sp_b2[2])\n",
        "print(total_sec4)"
      ],
      "metadata": {
        "colab": {
          "base_uri": "https://localhost:8080/"
        },
        "id": "ovdEwcsWM1Qr",
        "outputId": "b0e8419a-1c68-404f-a6d9-4c111bd456c0"
      },
      "execution_count": 60,
      "outputs": [
        {
          "output_type": "stream",
          "name": "stdout",
          "text": [
            "['20', '00', '18']\n",
            "72018\n"
          ]
        }
      ]
    },
    {
      "cell_type": "code",
      "source": [
        "print(f'ความต่างเวลาของ {b1} - {b2} เป็นวินาทีได้เท่ากับ {total_sec4 - total_sec3} วินาที ')"
      ],
      "metadata": {
        "colab": {
          "base_uri": "https://localhost:8080/"
        },
        "id": "GH8qB1fyM-Yn",
        "outputId": "fa3d59ca-f649-4367-e8de-d966195489f0"
      },
      "execution_count": 69,
      "outputs": [
        {
          "output_type": "stream",
          "name": "stdout",
          "text": [
            "ความต่างเวลาของ 13:41:07 - 20:00:18 เป็นวินาทีได้เท่ากับ 22751 วินาที \n"
          ]
        }
      ]
    },
    {
      "cell_type": "code",
      "source": [
        "c1 = '21:30:15'\n",
        "sp_c1 = c1.split(':')\n",
        "print(sp_c1)\n",
        "\n",
        "total_sec5 = int(sp_c1[0])*3600+int (sp_c1[1])*60+int (sp_c1[2])\n",
        "print(total_sec5)"
      ],
      "metadata": {
        "colab": {
          "base_uri": "https://localhost:8080/"
        },
        "id": "WpdFLpACNMcA",
        "outputId": "9810b76a-d89b-42d8-fa78-29b5d54939da"
      },
      "execution_count": 62,
      "outputs": [
        {
          "output_type": "stream",
          "name": "stdout",
          "text": [
            "['21', '30', '15']\n",
            "77415\n"
          ]
        }
      ]
    },
    {
      "cell_type": "code",
      "source": [
        "c2 = '24:00:00'\n",
        "sp_c2 = c2.split(':')\n",
        "print(sp_c2)\n",
        "\n",
        "total_sec6 = int(sp_c2[0])*3600+int (sp_c2[1])*60+int (sp_c2[2])\n",
        "print(total_sec6)"
      ],
      "metadata": {
        "colab": {
          "base_uri": "https://localhost:8080/"
        },
        "id": "ql406kaGNMP2",
        "outputId": "17ff3b43-f19a-4319-d01b-19cb4e68f1e3"
      },
      "execution_count": 63,
      "outputs": [
        {
          "output_type": "stream",
          "name": "stdout",
          "text": [
            "['24', '00', '00']\n",
            "86400\n"
          ]
        }
      ]
    },
    {
      "cell_type": "code",
      "source": [
        "print(f'ความต่างเวลาของ {c1} - {c2} เป็นวินาทีได้เท่ากับ {total_sec6 - total_sec5} วินาที ')"
      ],
      "metadata": {
        "colab": {
          "base_uri": "https://localhost:8080/"
        },
        "id": "C2TJhKBqN42n",
        "outputId": "252e206c-fc85-452a-8620-36d12cffd86a"
      },
      "execution_count": 68,
      "outputs": [
        {
          "output_type": "stream",
          "name": "stdout",
          "text": [
            "ความต่างเวลาของ 21:30:15 - 24:00:00 เป็นวินาทีได้เท่ากับ 8985 วินาที \n"
          ]
        }
      ]
    },
    {
      "cell_type": "code",
      "source": [
        "d1 = '00:00:00'\n",
        "sp_d1 = d1.split(':')\n",
        "print(sp_d1)\n",
        "\n",
        "total_sec7 = int(sp_d1[0])*3600+int (sp_d1[1])*60+int (sp_d1[2])\n",
        "print(total_sec7)"
      ],
      "metadata": {
        "colab": {
          "base_uri": "https://localhost:8080/"
        },
        "id": "pqzGCWVhOBQh",
        "outputId": "1e96565f-79a1-4fca-8d91-f03122723005"
      },
      "execution_count": 65,
      "outputs": [
        {
          "output_type": "stream",
          "name": "stdout",
          "text": [
            "['00', '00', '00']\n",
            "0\n"
          ]
        }
      ]
    },
    {
      "cell_type": "code",
      "source": [
        "d2 = '23:59:59'\n",
        "sp_d2 = d2.split(':')\n",
        "print(sp_d2)\n",
        "\n",
        "total_sec8 = int(sp_d2[0])*3600+int (sp_d2[1])*60+int (sp_d2[2])\n",
        "print(total_sec8)"
      ],
      "metadata": {
        "colab": {
          "base_uri": "https://localhost:8080/"
        },
        "id": "TGyraQAIOBIv",
        "outputId": "1a86a33a-31d4-4171-9479-85f267e99d81"
      },
      "execution_count": 66,
      "outputs": [
        {
          "output_type": "stream",
          "name": "stdout",
          "text": [
            "['23', '59', '59']\n",
            "86399\n"
          ]
        }
      ]
    },
    {
      "cell_type": "code",
      "source": [
        "print(f'ความต่างเวลาของ {d1} - {d2} เป็นวินาทีได้เท่ากับ {total_sec8 - total_sec7} วินาที ')"
      ],
      "metadata": {
        "colab": {
          "base_uri": "https://localhost:8080/"
        },
        "id": "7-YTJ_08OnQa",
        "outputId": "784700a5-c9a3-431d-d5f2-705d90b60327"
      },
      "execution_count": 67,
      "outputs": [
        {
          "output_type": "stream",
          "name": "stdout",
          "text": [
            "ความต่างเวลาของ 00:00:00 - 23:59:59 เป็นวินาทีได้เท่ากับ 86399 วินาที \n"
          ]
        }
      ]
    }
  ]
}